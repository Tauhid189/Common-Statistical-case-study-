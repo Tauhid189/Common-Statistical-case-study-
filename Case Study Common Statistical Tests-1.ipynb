{
 "cells": [
  {
   "cell_type": "code",
   "execution_count": 1,
   "id": "ccdbe81d",
   "metadata": {},
   "outputs": [],
   "source": [
    "import pandas as pd\n",
    "import numpy as np\n",
    "import seaborn as sns\n",
    "import matplotlib.pyplot as plt"
   ]
  },
  {
   "cell_type": "code",
   "execution_count": 10,
   "id": "a1eee842",
   "metadata": {},
   "outputs": [],
   "source": [
    "from scipy.stats import ttest_1samp\n",
    "\n",
    "sample_masses = np.array([8.8, 6.6, 9.5, 11.2, 10.2, 7.4, 8.0, 9.6, 9.9, 9.0,\n",
    "                          7.6, 7.4, 10.4, 11.1, 8.5, 10.0, 11.6, 10.7, 10.3, 7.0])\n",
    "population_mean = 10  # Population mean to compare against\n",
    "\n"
   ]
  },
  {
   "cell_type": "code",
   "execution_count": 11,
   "id": "523d2073",
   "metadata": {},
   "outputs": [],
   "source": [
    "# Perform one-sample t-test\n",
    "t_stat, p_value = ttest_1samp(sample_masses, population_mean)\n"
   ]
  },
  {
   "cell_type": "code",
   "execution_count": 12,
   "id": "edd21bf4",
   "metadata": {},
   "outputs": [
    {
     "name": "stdout",
     "output_type": "stream",
     "text": [
      "One-Sample t-Test Results:\n",
      "t-statistic: -2.2492\n",
      "p-value: 0.0366\n"
     ]
    }
   ],
   "source": [
    "# Display results\n",
    "print(\"One-Sample t-Test Results:\")\n",
    "print(f\"t-statistic: {t_stat:.4f}\")\n",
    "print(f\"p-value: {p_value:.4f}\")\n"
   ]
  },
  {
   "cell_type": "code",
   "execution_count": 13,
   "id": "cd594310",
   "metadata": {},
   "outputs": [
    {
     "name": "stdout",
     "output_type": "stream",
     "text": [
      "Reject the null hypothesis: The average mass of all acorns is different from 10 g.\n"
     ]
    }
   ],
   "source": [
    "# Decision based on significance level alpha = 0.05\n",
    "alpha = 0.05\n",
    "if p_value < alpha:\n",
    "    print(\"Reject the null hypothesis: The average mass of all acorns is different from 10 g.\")\n",
    "else:\n",
    "    print(\"Fail to reject the null hypothesis: Not enough evidence to conclude the average mass is different from 10 g.\")\n"
   ]
  },
  {
   "cell_type": "code",
   "execution_count": 14,
   "id": "5b97d752",
   "metadata": {},
   "outputs": [],
   "source": [
    "from scipy.stats import ttest_ind\n",
    "\n",
    "sample_upwind = np.array([10.8, 10, 8.2, 9.9, 11.6, 10.1, 11.3, 10.3, 10.7, 9, \n",
    "                          7, 8, 9, 6, 9, 7, 11.6, 10.3, 9, 12.3, 11, 10, 4, 10.4])\n",
    "sample_downwind = np.array([7.8, 7.5, 9.5, 11.7, 8.1, 8.8, 8.8, 7.7, 9.7, 7.0, \n",
    "                            9.0, 9.7, 11.3, 8.7, 8.8, 10.9, 10.3, 9.6, 8.4, 6.6, \n",
    "                            7.2, 7.6, 11.5, 6.6, 8.6, 10.5, 8.4, 8.5, 10.2, 9.2])\n",
    "\n"
   ]
  },
  {
   "cell_type": "code",
   "execution_count": 16,
   "id": "93012195",
   "metadata": {},
   "outputs": [],
   "source": [
    "# Perform independent two-sample t-test (equal variances assumed)\n",
    "t_stat, p_value = ttest_ind(sample_upwind, sample_downwind, equal_var=True)\n",
    "\n"
   ]
  },
  {
   "cell_type": "code",
   "execution_count": 17,
   "id": "e24a601e",
   "metadata": {},
   "outputs": [
    {
     "name": "stdout",
     "output_type": "stream",
     "text": [
      "Independent Two-Sample t-Test Results:\n",
      "t-statistic: 1.0848\n",
      "p-value: 0.2830\n"
     ]
    }
   ],
   "source": [
    "# Display results\n",
    "print(\"Independent Two-Sample t-Test Results:\")\n",
    "print(f\"t-statistic: {t_stat:.4f}\")\n",
    "print(f\"p-value: {p_value:.4f}\")\n",
    "\n"
   ]
  },
  {
   "cell_type": "code",
   "execution_count": 18,
   "id": "fadb1d87",
   "metadata": {},
   "outputs": [
    {
     "name": "stdout",
     "output_type": "stream",
     "text": [
      "Fail to reject the null hypothesis: No significant difference in mass between upwind and downwind acorns.\n"
     ]
    }
   ],
   "source": [
    "# Decision based on significance level alpha = 0.05\n",
    "alpha = 0.05\n",
    "if p_value < alpha:\n",
    "    print(\"Reject the null hypothesis: The mass of acorns downwind is significantly different from upwind.\")\n",
    "else:\n",
    "    print(\"Fail to reject the null hypothesis: No significant difference in mass between upwind and downwind acorns.\")\n"
   ]
  },
  {
   "cell_type": "code",
   "execution_count": 6,
   "id": "3ae66331",
   "metadata": {},
   "outputs": [],
   "source": [
    "from scipy.stats import f_oneway\n",
    "\n",
    "# Data\n",
    "section_A = np.array([51, 45, 33, 45, 67])\n",
    "section_B = np.array([23, 43, 23, 43, 45])\n",
    "section_C = np.array([56, 76, 74, 87, 56])\n",
    "\n"
   ]
  },
  {
   "cell_type": "code",
   "execution_count": 7,
   "id": "af33e3d2",
   "metadata": {},
   "outputs": [],
   "source": [
    "# Perform one-way ANOVA\n",
    "f_stat, p_value = f_oneway(section_A, section_B, section_C)\n",
    "\n"
   ]
  },
  {
   "cell_type": "code",
   "execution_count": 8,
   "id": "5a9c32be",
   "metadata": {},
   "outputs": [
    {
     "name": "stdout",
     "output_type": "stream",
     "text": [
      "One-Way ANOVA Test Results:\n",
      "F-statistic: 9.7472\n",
      "p-value: 0.0031\n"
     ]
    }
   ],
   "source": [
    "# Display results\n",
    "print(\"One-Way ANOVA Test Results:\")\n",
    "print(f\"F-statistic: {f_stat:.4f}\")\n",
    "print(f\"p-value: {p_value:.4f}\")\n",
    "\n"
   ]
  },
  {
   "cell_type": "code",
   "execution_count": 9,
   "id": "283ae10e",
   "metadata": {},
   "outputs": [
    {
     "name": "stdout",
     "output_type": "stream",
     "text": [
      "Reject the null hypothesis: There is a significant difference in mean marks between the sections.\n"
     ]
    }
   ],
   "source": [
    "# Decision based on significance level alpha = 0.05\n",
    "alpha = 0.05\n",
    "if p_value < alpha:\n",
    "    print(\"Reject the null hypothesis: There is a significant difference in mean marks between the sections.\")\n",
    "else:\n",
    "    print(\"Fail to reject the null hypothesis: No significant difference in mean marks between the sections.\")\n"
   ]
  },
  {
   "cell_type": "code",
   "execution_count": null,
   "id": "c10a82a6",
   "metadata": {},
   "outputs": [],
   "source": []
  }
 ],
 "metadata": {
  "kernelspec": {
   "display_name": "Python 3 (ipykernel)",
   "language": "python",
   "name": "python3"
  },
  "language_info": {
   "codemirror_mode": {
    "name": "ipython",
    "version": 3
   },
   "file_extension": ".py",
   "mimetype": "text/x-python",
   "name": "python",
   "nbconvert_exporter": "python",
   "pygments_lexer": "ipython3",
   "version": "3.11.7"
  }
 },
 "nbformat": 4,
 "nbformat_minor": 5
}
